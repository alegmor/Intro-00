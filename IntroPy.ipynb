{
 "cells": [
  {
   "cell_type": "markdown",
   "id": "7770b628",
   "metadata": {},
   "source": [
    "<div>\n",
    "<img align=\"left\"\n",
    "src=\"Images/ier-unam.png\" width=\"160\" height=\"160\"/>\n",
    "</div>\n",
    "<center> <span style=\"font-family: Tahoma, Sans-serif;color:#09427D; font-size:16pt; font-weight:bold\"> TRANSFERENCIA DE CALOR 2023</span> </center> \n",
    "<pre>\n",
    "<center> <span style=\"font-family: Tahoma, Sans-serif;color:#09427D; font-size:14pt\"> Introducción y Conducción</span> </center> \n",
    "<center> <span style=\"font-family: Tahoma, Sans-serif;color:#09427D; font-size:12pt\"> Introducción a Python </span> </center> "
   ]
  },
  {
   "cell_type": "markdown",
   "id": "4f439944",
   "metadata": {},
   "source": [
    "<div>\n",
    "<img align=\"center\"\n",
    "src=\"Images/bloque.png\" width=\"200\" height=\"200\"/>\n",
    "</div>"
   ]
  },
  {
   "cell_type": "markdown",
   "id": "7f48982a",
   "metadata": {},
   "source": [
    "La ecuación de calor unidimensional en estado estacionario y sin generación de calor es \n",
    "\n",
    "$$\\frac{d}{dx} \\left(k \\frac{dT}{dx} \\right) = 0,$$\n",
    "\n",
    "cuando la conductividad térmica $k$  no depende de la distancia $x$, la ecuación anterior es\n",
    "\n",
    "$$\\frac{d^2 T}{dx^2}=0.$$\n",
    "\n",
    "La solución general de esta ecuación es\n",
    "\n",
    "$$T(x)=C_1x+C_2.$$\n",
    "\n",
    "Para obtener el valor de las constantes $C_1$ y $C_2$ evaluamos la condiciones de frontera \n",
    "\n",
    "$$T(0)=T_{1}, \\qquad $$\n",
    "\n",
    "$$T(L)=T_{2}$$\n",
    "\n",
    "Evaluamos la condición de frontera en $x=0$ \n",
    "\n",
    "$$T_{1}= C_2$$.\n",
    "\n",
    "Evaluamos en $x=L$\n",
    "\n",
    "$$T_{2}=C_1 L+C_2 = C_1L+T_{1}, \\qquad \\frac{T_{1}-T_{2}}{L}=C_1$$\n",
    "\n",
    "\n",
    "Sustitumos $C_1$ y $C_2$ en la solución general y encontramos la distribución de temperatura\n",
    "\n",
    "$$T(x) = \\left( T_{2}- T_{1} \\right) \\frac{x}{L}+ T_{1}$$\n",
    "\n",
    "Calculamos el flujo de calor por unidad de área $q_x^{''}$ usando la ley de Fourier. El resultado es\n",
    "\n",
    "$$q_x^{''} = - k \\frac{\\partial T(x)}{\\partial x}= k \\frac{T_1-T_2}{L} $$ "
   ]
  },
  {
   "cell_type": "markdown",
   "id": "0d151bfe",
   "metadata": {},
   "source": [
    "### Tarea \n",
    "Considere un bloque de largo $L=1$. En $x=0$ el bloque está a temperarua $T_1=200 K$ y en $x=L$ a temperatura $T_2=100 K$, con conductividad térmica constante $k$ y conducción de calor en estado permanente. Grafica la distribución de temperatura $T(x)$"
   ]
  },
  {
   "cell_type": "code",
   "execution_count": 1,
   "id": "94c39b81",
   "metadata": {},
   "outputs": [],
   "source": [
    "#importar bibliotecas \n",
    "import numpy as np #funciones matemáticas avanzadas\n",
    "import matplotlib.pyplot as plt #interface de matplotlib para graficar "
   ]
  },
  {
   "cell_type": "code",
   "execution_count": 2,
   "id": "dfb35a84",
   "metadata": {},
   "outputs": [
    {
     "data": {
      "text/plain": [
       "array([0. , 0.1, 0.2, 0.3, 0.4, 0.5, 0.6, 0.7, 0.8, 0.9])"
      ]
     },
     "execution_count": 2,
     "metadata": {},
     "output_type": "execute_result"
    }
   ],
   "source": [
    "#definir los parámetros que conocemos\n",
    "T2= 100 \n",
    "T1= 200\n",
    "L = 1\n",
    "#x = np.linspace(0,1,11) #(min,max,num de valores) tamaño del paso\n",
    "x = np.arange(0,1,0.1) #excluye el valor máximo\n",
    "x"
   ]
  },
  {
   "cell_type": "code",
   "execution_count": 3,
   "id": "ea57e6ba",
   "metadata": {},
   "outputs": [
    {
     "data": {
      "text/plain": [
       "array([200., 190., 180., 170., 160., 150., 140., 130., 120., 110.])"
      ]
     },
     "execution_count": 3,
     "metadata": {},
     "output_type": "execute_result"
    }
   ],
   "source": [
    "T =  (T2-T1)*(x/L) + T1\n",
    "T"
   ]
  },
  {
   "cell_type": "code",
   "execution_count": 4,
   "id": "b58b10c3",
   "metadata": {},
   "outputs": [
    {
     "data": {
      "image/png": "[encoded data removed]",
      "text/plain": [
       "<Figure size 432x288 with 1 Axes>"
      ]
     },
     "metadata": {
      "needs_background": "light"
     },
     "output_type": "display_data"
    }
   ],
   "source": [
    "plt.plot(T)\n",
    "plt.ylabel(\"$T(x)$\")\n",
    "plt.xlabel(\"$x$\")\n",
    "plt.show()"
   ]
  }
 ],
 "metadata": {
  "kernelspec": {
   "display_name": "Python 3 (ipykernel)",
   "language": "python",
   "name": "python3"
  },
  "language_info": {
   "codemirror_mode": {
    "name": "ipython",
    "version": 3
   },
   "file_extension": ".py",
   "mimetype": "text/x-python",
   "name": "python",
   "nbconvert_exporter": "python",
   "pygments_lexer": "ipython3",
   "version": "3.8.10"
  },
  "latex_envs": {
   "LaTeX_envs_menu_present": true,
   "autoclose": true,
   "autocomplete": true,
   "bibliofile": "biblio.bib",
   "cite_by": "apalike",
   "current_citInitial": 1,
   "eqLabelWithNumbers": true,
   "eqNumInitial": 1,
   "hotkeys": {
    "equation": "Ctrl-E",
    "itemize": "Ctrl-I"
   },
   "labels_anchors": false,
   "latex_user_defs": false,
   "report_style_numbering": false,
   "user_envs_cfg": false
  },
  "varInspector": {
   "cols": {
    "lenName": 16,
    "lenType": 16,
    "lenVar": 40
   },
   "kernels_config": {
    "python": {
     "delete_cmd_postfix": "",
     "delete_cmd_prefix": "del ",
     "library": "var_list.py",
     "varRefreshCmd": "print(var_dic_list())"
    },
    "r": {
     "delete_cmd_postfix": ") ",
     "delete_cmd_prefix": "rm(",
     "library": "var_list.r",
     "varRefreshCmd": "cat(var_dic_list()) "
    }
   },
   "types_to_exclude": [
    "module",
    "function",
    "builtin_function_or_method",
    "instance",
    "_Feature"
   ],
   "window_display": false
  }
 },
 "nbformat": 4,
 "nbformat_minor": 5
}
